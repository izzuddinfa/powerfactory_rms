{
 "cells": [
  {
   "cell_type": "code",
   "execution_count": 1,
   "metadata": {},
   "outputs": [],
   "source": [
    "from pf_simulation import PowerFactorySim as pfsim\n",
    "\n",
    "FOLDER_NAME = ''\n",
    "PROJECT_NAME = '39 Bus New England System'\n",
    "STUDY_CASE_NAME = '1. Power Flow'\n",
    "MONITORED_VARIABLES = {\n",
    "    '*.ElmTerm': ['m:u1', 'm:phiu'],\n",
    "    '*.ElmSym': ['c:firel', 's:outofstep']\n",
    "}\n",
    "VAR_FOLDER = {\n",
    "    '*.ElmTerm': ['magnitude','angle'],\n",
    "    '*.ElmSym': ['rotor_angle', 'out_of_step']\n",
    "}\n",
    "\n",
    "#sim = PowerFactorySim(folder_name=FOLDER_NAME, project_name=PROJECT_NAME, study_case_name=STUDY_CASE_NAME)\n",
    "sim = pfsim(folder_name=FOLDER_NAME,\n",
    "            project_name=PROJECT_NAME,\n",
    "            study_case_name=STUDY_CASE_NAME)\n",
    "sim.app.Show()"
   ]
  },
  {
   "cell_type": "code",
   "execution_count": 6,
   "metadata": {},
   "outputs": [],
   "source": [
    "import os\n",
    "import pandas as pd\n",
    "\n",
    "# Membuat skenario operasi\n",
    "f_line = sim.app.GetCalcRelevantObjects('*.ElmLne')\n",
    "f_location = [0, 20, 50, 80]\n",
    "f_duration = [0.1, 0.15, 0.18, 0.2, 0.25]\n",
    "load_level = [i/100 for i in range(70,135,5)]\n",
    "\n",
    "# Memuat nilai default load dan gen\n",
    "load_file = \"default_load_data.parquet\"\n",
    "gen_file = \"default_generator_data.parquet\"\n",
    "if all(map(os.path.exists, [load_file, gen_file])):\n",
    "    load_default, gen_default = (pd.read_parquet(load_file), pd.read_parquet(gen_file))\n",
    "else:\n",
    "    load_default, gen_default = sim.loadGenData()\n",
    "    load_default.to_parquet(load_file, index=False)\n",
    "    gen_default.to_parquet(gen_file, index=False)\n",
    "\n",
    "# Mengatur parameter untuk simulasi optimal power flow\n",
    "sim.opfSetup()\n",
    "\n",
    "# Mengatur parameter beban ke nilai default\n",
    "sim.loadSetup(1, load_default)"
   ]
  },
  {
   "cell_type": "markdown",
   "metadata": {},
   "source": [
    "Testing OPF"
   ]
  },
  {
   "cell_type": "code",
   "execution_count": 3,
   "metadata": {},
   "outputs": [
    {
     "name": "stdout",
     "output_type": "stream",
     "text": [
      "0.70 load, OPF error but LF running succesfully\n",
      "0.75 load, OPF error but LF running succesfully\n",
      "0.80 load, OPF error but LF running succesfully\n",
      "0.85 load, OPF error but LF running succesfully\n",
      "0.90 load, OPF error but LF running succesfully\n",
      "0.95 load, OPF error but LF running succesfully\n",
      "1.00 load, OPF error but LF running succesfully\n",
      "1.05 load, OPF error but LF running succesfully\n",
      "1.10 load, OPF error but LF running succesfully\n",
      "1.15 load, OPF error but LF running succesfully\n",
      "1.20 load, OPF error but LF running succesfully\n",
      "1.25 load, OPF error but LF running succesfully\n",
      "1.30 load, OPF error but LF running succesfully\n"
     ]
    }
   ],
   "source": [
    "for load_lvl_iter in load_level:\n",
    "    sim.loadSetup(load_lvl_iter, load_default)\n",
    "    try:\n",
    "        sim.opfAnalysis()\n",
    "        sim.ldfAnalysis()\n",
    "        print('%.2f load, OPF and LF running succesfully'%(load_lvl_iter))\n",
    "    except AttributeError:\n",
    "        sim.ldfAnalysis()\n",
    "        print('%.2f load, OPF error but LF running succesfully'%(load_lvl_iter))"
   ]
  },
  {
   "cell_type": "code",
   "execution_count": null,
   "metadata": {},
   "outputs": [],
   "source": []
  }
 ],
 "metadata": {
  "kernelspec": {
   "display_name": "venv",
   "language": "python",
   "name": "python3"
  },
  "language_info": {
   "codemirror_mode": {
    "name": "ipython",
    "version": 3
   },
   "file_extension": ".py",
   "mimetype": "text/x-python",
   "name": "python",
   "nbconvert_exporter": "python",
   "pygments_lexer": "ipython3",
   "version": "3.11.9"
  }
 },
 "nbformat": 4,
 "nbformat_minor": 2
}
