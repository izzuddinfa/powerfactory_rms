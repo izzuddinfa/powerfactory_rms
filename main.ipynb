{
 "cells": [
  {
   "cell_type": "markdown",
   "metadata": {},
   "source": [
    "Inisiasi Program"
   ]
  },
  {
   "cell_type": "code",
   "execution_count": 1,
   "metadata": {},
   "outputs": [
    {
     "name": "stdout",
     "output_type": "stream",
     "text": [
      "Scenario metadata created\n"
     ]
    },
    {
     "data": {
      "text/html": [
       "<div>\n",
       "<style scoped>\n",
       "    .dataframe tbody tr th:only-of-type {\n",
       "        vertical-align: middle;\n",
       "    }\n",
       "\n",
       "    .dataframe tbody tr th {\n",
       "        vertical-align: top;\n",
       "    }\n",
       "\n",
       "    .dataframe thead th {\n",
       "        text-align: right;\n",
       "    }\n",
       "</style>\n",
       "<table border=\"1\" class=\"dataframe\">\n",
       "  <thead>\n",
       "    <tr style=\"text-align: right;\">\n",
       "      <th></th>\n",
       "      <th>scenario</th>\n",
       "      <th>load_level</th>\n",
       "      <th>f_line</th>\n",
       "      <th>f_location</th>\n",
       "      <th>f_duration</th>\n",
       "    </tr>\n",
       "  </thead>\n",
       "  <tbody>\n",
       "    <tr>\n",
       "      <th>0</th>\n",
       "      <td>scenario_0001</td>\n",
       "      <td>0.5</td>\n",
       "      <td>Line 01 - 39.ElmLne</td>\n",
       "      <td>0</td>\n",
       "      <td>0.10</td>\n",
       "    </tr>\n",
       "    <tr>\n",
       "      <th>1</th>\n",
       "      <td>scenario_0002</td>\n",
       "      <td>0.5</td>\n",
       "      <td>Line 01 - 39.ElmLne</td>\n",
       "      <td>0</td>\n",
       "      <td>0.15</td>\n",
       "    </tr>\n",
       "    <tr>\n",
       "      <th>2</th>\n",
       "      <td>scenario_0003</td>\n",
       "      <td>0.5</td>\n",
       "      <td>Line 01 - 39.ElmLne</td>\n",
       "      <td>0</td>\n",
       "      <td>0.18</td>\n",
       "    </tr>\n",
       "    <tr>\n",
       "      <th>3</th>\n",
       "      <td>scenario_0004</td>\n",
       "      <td>0.5</td>\n",
       "      <td>Line 01 - 39.ElmLne</td>\n",
       "      <td>0</td>\n",
       "      <td>0.20</td>\n",
       "    </tr>\n",
       "    <tr>\n",
       "      <th>4</th>\n",
       "      <td>scenario_0005</td>\n",
       "      <td>0.5</td>\n",
       "      <td>Line 01 - 39.ElmLne</td>\n",
       "      <td>0</td>\n",
       "      <td>0.25</td>\n",
       "    </tr>\n",
       "    <tr>\n",
       "      <th>...</th>\n",
       "      <td>...</td>\n",
       "      <td>...</td>\n",
       "      <td>...</td>\n",
       "      <td>...</td>\n",
       "      <td>...</td>\n",
       "    </tr>\n",
       "    <tr>\n",
       "      <th>8835</th>\n",
       "      <td>scenario_8836</td>\n",
       "      <td>1.1</td>\n",
       "      <td>Line 01 - 02.ElmLne</td>\n",
       "      <td>80</td>\n",
       "      <td>0.10</td>\n",
       "    </tr>\n",
       "    <tr>\n",
       "      <th>8836</th>\n",
       "      <td>scenario_8837</td>\n",
       "      <td>1.1</td>\n",
       "      <td>Line 01 - 02.ElmLne</td>\n",
       "      <td>80</td>\n",
       "      <td>0.15</td>\n",
       "    </tr>\n",
       "    <tr>\n",
       "      <th>8837</th>\n",
       "      <td>scenario_8838</td>\n",
       "      <td>1.1</td>\n",
       "      <td>Line 01 - 02.ElmLne</td>\n",
       "      <td>80</td>\n",
       "      <td>0.18</td>\n",
       "    </tr>\n",
       "    <tr>\n",
       "      <th>8838</th>\n",
       "      <td>scenario_8839</td>\n",
       "      <td>1.1</td>\n",
       "      <td>Line 01 - 02.ElmLne</td>\n",
       "      <td>80</td>\n",
       "      <td>0.20</td>\n",
       "    </tr>\n",
       "    <tr>\n",
       "      <th>8839</th>\n",
       "      <td>scenario_8840</td>\n",
       "      <td>1.1</td>\n",
       "      <td>Line 01 - 02.ElmLne</td>\n",
       "      <td>80</td>\n",
       "      <td>0.25</td>\n",
       "    </tr>\n",
       "  </tbody>\n",
       "</table>\n",
       "<p>8840 rows × 5 columns</p>\n",
       "</div>"
      ],
      "text/plain": [
       "           scenario  load_level               f_line  f_location  f_duration\n",
       "0     scenario_0001         0.5  Line 01 - 39.ElmLne           0        0.10\n",
       "1     scenario_0002         0.5  Line 01 - 39.ElmLne           0        0.15\n",
       "2     scenario_0003         0.5  Line 01 - 39.ElmLne           0        0.18\n",
       "3     scenario_0004         0.5  Line 01 - 39.ElmLne           0        0.20\n",
       "4     scenario_0005         0.5  Line 01 - 39.ElmLne           0        0.25\n",
       "...             ...         ...                  ...         ...         ...\n",
       "8835  scenario_8836         1.1  Line 01 - 02.ElmLne          80        0.10\n",
       "8836  scenario_8837         1.1  Line 01 - 02.ElmLne          80        0.15\n",
       "8837  scenario_8838         1.1  Line 01 - 02.ElmLne          80        0.18\n",
       "8838  scenario_8839         1.1  Line 01 - 02.ElmLne          80        0.20\n",
       "8839  scenario_8840         1.1  Line 01 - 02.ElmLne          80        0.25\n",
       "\n",
       "[8840 rows x 5 columns]"
      ]
     },
     "metadata": {},
     "output_type": "display_data"
    }
   ],
   "source": [
    "from scripts.pf_simulation import PowerFactorySim as pfsim\n",
    "import os\n",
    "import pandas as pd\n",
    "\n",
    "FOLDER_NAME = ''\n",
    "PROJECT_NAME = '39 Bus New England System'\n",
    "STUDY_CASE_NAME = '1. Power Flow'\n",
    "VARIABLES = {\n",
    "    'name': {\n",
    "        '*.ElmTerm': ['magnitude','angle'],\n",
    "        '*.ElmSym': ['rotor_angle', 'out_of_step']\n",
    "    },\n",
    "    'symbol': {\n",
    "        '*.ElmTerm': ['m:u1', 'm:phiu'],\n",
    "        '*.ElmSym': ['c:firel', 's:outofstep']\n",
    "    }\n",
    "}\n",
    "\n",
    "sim = pfsim(folder_name=FOLDER_NAME, project_name=PROJECT_NAME, study_case_name=STUDY_CASE_NAME)\n",
    "# sim.app.Show()\n",
    "\n",
    "# Membuat skenario operasi\n",
    "SCENARIO = {\n",
    "    'f_line' : sim.app.GetCalcRelevantObjects('*.ElmLne'),\n",
    "    'f_location' : [0, 20, 50, 80],\n",
    "    'f_duration' : [0.1, 0.15, 0.18, 0.2, 0.25],\n",
    "    'load_level' : [i/100 for i in range(50,115,5)],\n",
    "}\n",
    "scenario_metadata = sim.createScenario(scenario_dict=SCENARIO, save=True, flag='y')\n",
    "\n",
    "# Memuat nilai default load dan gen\n",
    "file_dir = \"output/default_data\"\n",
    "load_file = f\"{file_dir}/load_data.parquet\"\n",
    "gen_file = f\"{file_dir}/generator_data.parquet\"\n",
    "if all(map(os.path.exists, [load_file, gen_file])):\n",
    "    load_default, gen_default = (pd.read_parquet(load_file), pd.read_parquet(gen_file))\n",
    "else:\n",
    "    load_default, gen_default = sim.loadGenData()\n",
    "    load_default.to_parquet(load_file, index=False)\n",
    "    gen_default.to_parquet(gen_file, index=False)\n",
    "\n",
    "# Mengatur parameter untuk simulasi optimal power flow\n",
    "sim.opfSetup()\n",
    "\n",
    "# Mengatur parameter beban ke nilai default\n",
    "sim.loadSetup(1, load_default)\n",
    "sim.opfAnalysis('los')\n",
    "sim.ldfAnalysis()\n",
    "\n",
    "display(scenario_metadata)"
   ]
  },
  {
   "cell_type": "markdown",
   "metadata": {},
   "source": [
    "Testing OPF"
   ]
  },
  {
   "cell_type": "code",
   "execution_count": 5,
   "metadata": {},
   "outputs": [
    {
     "name": "stdout",
     "output_type": "stream",
     "text": [
      "0.50 load, OPF and LF running successfully\n",
      "0.55 load, OPF and LF running successfully\n",
      "0.60 load, OPF and LF running successfully\n",
      "0.65 load, OPF and LF running successfully\n",
      "0.70 load, OPF and LF running successfully\n",
      "0.75 load, OPF min los failed, trying min dev\n",
      "0.75 load, OPF and LF running successfully\n",
      "0.80 load, OPF and LF running successfully\n",
      "0.85 load, OPF and LF running successfully\n",
      "0.90 load, OPF and LF running successfully\n",
      "0.95 load, OPF and LF running successfully\n",
      "1.00 load, OPF and LF running successfully\n",
      "1.05 load, OPF and LF running successfully\n",
      "1.10 load, OPF and LF running successfully\n"
     ]
    }
   ],
   "source": [
    "file_dir = \"output/generator_dispatch\"\n",
    "for load_lvl_iter in sim.load_level:\n",
    "    sim.loadSetup(load_lvl_iter, load_default)\n",
    "    try:\n",
    "        sim.opfAnalysis('los')\n",
    "    except AttributeError:\n",
    "        print(f'{load_lvl_iter:.2f} load, OPF min los failed, trying min dev')\n",
    "        sim.opfAnalysis('dev')\n",
    "    \n",
    "    # Lakukan analisis daya dan ambil dispatch\n",
    "    gen_dispatch = sim.ldfAnalysis().gen\n",
    "\n",
    "    # Simpan hasil ke HDF5\n",
    "    gen_dispatch.to_parquet(f'{file_dir}/scenario_{int(load_lvl_iter*100)}.parquet', index=False)\n",
    "    print(f'{load_lvl_iter:.2f} load, OPF and LF running successfully')"
   ]
  },
  {
   "cell_type": "code",
   "execution_count": null,
   "metadata": {},
   "outputs": [
    {
     "name": "stderr",
     "output_type": "stream",
     "text": [
      "Simulating: 100%|██████████| 8840/8840 [13:34:23<00:00,  5.53s/iter, current_scenario=scenario_8840]  \n"
     ]
    }
   ],
   "source": [
    "from tqdm import tqdm\n",
    "import time\n",
    "import pandas as pd\n",
    "\n",
    "restart = False\n",
    "dataset_dir = \"D:\\Fathin\\github\\powerfactory_rms\\output\\dataset\" # Harus path lengkap\n",
    "\n",
    "# Baca file metadata\n",
    "scenario_list = pd.read_csv(\"output/scenario_metadata.csv\")\n",
    "\n",
    "# Pastikan kolom 'iter_time' ada\n",
    "if 'iter_time' not in scenario_list.columns:\n",
    "    scenario_list['iter_time'] = None\n",
    "\n",
    "# Filter skenario yang belum dijalankan\n",
    "if restart:\n",
    "    scenario_list['iter_time'] = None  # Reset semua iterasi\n",
    "scenario_list_run = scenario_list[scenario_list['iter_time'].isna()].reset_index(drop=True)\n",
    "\n",
    "# Total iterasi yang tersisa\n",
    "total_iterations = scenario_list_run.shape[0]\n",
    "\n",
    "# Mulai simulasi\n",
    "with tqdm(total=total_iterations, desc=\"Simulating\", unit=\"iter\") as pbar:\n",
    "    for _, scen in scenario_list_run.iterrows():\n",
    "        # Dapatkan parameter scenario\n",
    "        filename = scen['scenario']\n",
    "        load_lvl_iter = scen['load_level']\n",
    "        f_line_iter = scen['f_line']\n",
    "        f_loc_iter = scen['f_location']\n",
    "        f_dur_iter = scen['f_duration']\n",
    "\n",
    "        iter_start_time = time.perf_counter()\n",
    "\n",
    "        # Simulasi (implementasikan di sini)\n",
    "        sim.loadSetup(float(load_lvl_iter), load_default)\n",
    "        try:\n",
    "            sim.opfAnalysis('los')\n",
    "        except AttributeError:\n",
    "            sim.opfAnalysis('dev')\n",
    "        sim.scSetup(float(f_loc_iter), sim.app.GetCalcRelevantObjects(f_line_iter)[0], float(f_dur_iter))\n",
    "        sim.rmsSimulation(VARIABLES['symbol'], t_start=-100, t_step=10, t_stop=30)\n",
    "        sim.getResultRms(dataset_dir, filename)\n",
    "\n",
    "\n",
    "        iter_end_time = time.perf_counter()\n",
    "        iter_time = iter_end_time - iter_start_time\n",
    "\n",
    "        # Update DataFrame dan simpan ke file\n",
    "        scenario_list.loc[scenario_list['scenario'] == filename, 'iter_time'] = iter_time\n",
    "        scenario_list.to_csv(\"output/scenario_metadata.csv\", index=False)\n",
    "\n",
    "        # Update progress bar\n",
    "        pbar.set_postfix({\"current_scenario\": filename})\n",
    "        pbar.update(1)\n"
   ]
  },
  {
   "cell_type": "code",
   "execution_count": 1,
   "metadata": {},
   "outputs": [
    {
     "name": "stdout",
     "output_type": "stream",
     "text": [
      "Merged file created with an added 'filename' column!\n"
     ]
    }
   ],
   "source": [
    "import pandas as pd\n",
    "import os\n",
    "import glob\n",
    "\n",
    "# Directory containing Parquet files\n",
    "parquet_dir = \"output/dataset\"\n",
    "\n",
    "# Get all Parquet file paths in the directory\n",
    "parquet_files = glob.glob(os.path.join(parquet_dir, \"*.parquet\"))\n",
    "\n",
    "# List to store DataFrames\n",
    "dfs = []\n",
    "\n",
    "# Loop through each file\n",
    "for file in parquet_files:\n",
    "    # Read the Parquet file into a DataFrame\n",
    "    df = pd.read_parquet(file)\n",
    "    \n",
    "    # Add a new column with the filename (without extension)\n",
    "    df['scenario'] = os.path.basename(file)[:-8]\n",
    "    \n",
    "    # Append to the list of DataFrames\n",
    "    dfs.append(df)\n",
    "\n",
    "# Concatenate all DataFrames into one\n",
    "merged_df = pd.concat(dfs, ignore_index=True)\n",
    "\n",
    "# Save the merged DataFrame back to a single Parquet file\n",
    "merged_df.to_parquet(\"output/dataset_IEEE39bus.parquet\", index=False)\n",
    "\n",
    "print(\"Merged file created with an added 'scenario' column!\")\n"
   ]
  },
  {
   "cell_type": "markdown",
   "metadata": {},
   "source": [
    "Data labelling"
   ]
  },
  {
   "cell_type": "code",
   "execution_count": 2,
   "metadata": {},
   "outputs": [
    {
     "name": "stderr",
     "output_type": "stream",
     "text": [
      "Simulating: 100%|██████████| 8840/8840 [46:58<00:00,  3.14iter/s, current_scenario=scenario_8840]  \n"
     ]
    }
   ],
   "source": [
    "# Untuk query dan load data tiap skenario, tidak disaranakan load semua skenario secara langsung\n",
    "from os import path as osp\n",
    "from scripts.voltage_stability import VoltageStability\n",
    "import pandas as pd\n",
    "from tqdm import tqdm\n",
    "\n",
    "# Directories\n",
    "base_path = 'output' #'/kaggle/input/time-domain-ieee-39-bus'\n",
    "dataset_path = osp.join(base_path, 'dataset_IEEE39bus.parquet')\n",
    "metadata_path = osp.join(base_path, 'scenario_metadata.csv')\n",
    "\n",
    "# Read scenario list\n",
    "scenario_list = pd.read_csv(metadata_path)\n",
    "scenario_list = scenario_list['scenario'].to_list()\n",
    "\n",
    "# Do labelling\n",
    "vs = VoltageStability(dataset_path)\n",
    "# scenario = 'scenario_8800' # unstable\n",
    "target_df = pd.DataFrame({'scenario': scenario_list})\n",
    "targets = []\n",
    "with tqdm(total=len(scenario_list), desc=\"Simulating\", unit=\"iter\") as pbar:\n",
    "    for scenario in scenario_list:\n",
    "        vs.get_dataset(scenario)\n",
    "        target = vs.get_target_generator()\n",
    "        targets.append(target)\n",
    "\n",
    "        pbar.set_postfix({\"current_scenario\": scenario})\n",
    "        pbar.update(1)\n",
    "\n",
    "    target_df = pd.concat([target_df, pd.DataFrame(targets)], axis=1)\n",
    "\n",
    "\n"
   ]
  },
  {
   "cell_type": "code",
   "execution_count": null,
   "metadata": {},
   "outputs": [],
   "source": []
  },
  {
   "cell_type": "code",
   "execution_count": 12,
   "metadata": {},
   "outputs": [
    {
     "data": {
      "text/plain": [
       "'scenario_8840'"
      ]
     },
     "execution_count": 12,
     "metadata": {},
     "output_type": "execute_result"
    }
   ],
   "source": [
    "os.path.basename(file)[:-8]"
   ]
  },
  {
   "cell_type": "code",
   "execution_count": null,
   "metadata": {},
   "outputs": [],
   "source": []
  }
 ],
 "metadata": {
  "kernelspec": {
   "display_name": "venv",
   "language": "python",
   "name": "python3"
  },
  "language_info": {
   "codemirror_mode": {
    "name": "ipython",
    "version": 3
   },
   "file_extension": ".py",
   "mimetype": "text/x-python",
   "name": "python",
   "nbconvert_exporter": "python",
   "pygments_lexer": "ipython3",
   "version": "3.11.9"
  }
 },
 "nbformat": 4,
 "nbformat_minor": 2
}
