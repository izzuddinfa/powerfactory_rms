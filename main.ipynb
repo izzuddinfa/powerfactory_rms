{
 "cells": [
  {
   "cell_type": "code",
   "execution_count": 1,
   "metadata": {},
   "outputs": [],
   "source": [
    "from pf_simulation import PowerFactorySim as pfsim\n",
    "\n",
    "FOLDER_NAME = ''\n",
    "PROJECT_NAME = '39 Bus New England System'\n",
    "STUDY_CASE_NAME = '1. Power Flow'\n",
    "MONITORED_VARIABLES = {\n",
    "    '*.ElmTerm': ['m:u1', 'm:phiu'],\n",
    "    '*.ElmSym': ['c:firel', 's:outofstep']\n",
    "}\n",
    "VAR_FOLDER = {\n",
    "    '*.ElmTerm': ['magnitude','angle'],\n",
    "    '*.ElmSym': ['rotor_angle', 'out_of_step']\n",
    "}\n",
    "\n",
    "#sim = PowerFactorySim(folder_name=FOLDER_NAME, project_name=PROJECT_NAME, study_case_name=STUDY_CASE_NAME)\n",
    "sim = pfsim(folder_name=FOLDER_NAME,\n",
    "            project_name=PROJECT_NAME,\n",
    "            study_case_name=STUDY_CASE_NAME)\n",
    "sim.app.Show()"
   ]
  },
  {
   "cell_type": "code",
   "execution_count": null,
   "metadata": {},
   "outputs": [],
   "source": [
    "import os\n",
    "import pandas as pd\n",
    "\n",
    "# Membuat skenario operasi\n",
    "f_line = sim.app.GetCalcRelevantObjects('*.ElmLne')\n",
    "f_location = [0, 20, 50, 80]\n",
    "f_duration = [0.1, 0.15, 0.18, 0.2, 0.25]\n",
    "load_level = [i/100 for i in range(70,135,5)]\n",
    "\n",
    "# Memuat nilai default load dan gen\n",
    "load_file = \"default_load_data.parquet\"\n",
    "gen_file = \"default_generator_data.parquet\"\n",
    "if all(map(os.path.exists, [load_file, gen_file])):\n",
    "    load_default, gen_default = (pd.read_parquet(load_file), pd.read_parquet(gen_file))\n",
    "else:\n",
    "    load_default, gen_default = sim.loadGenData()\n",
    "    load_default.to_parquet(load_file, index=False)\n",
    "    gen_default.to_parquet(gen_file, index=False)\n",
    "\n",
    "# Mengatur parameter untuk simulasi optimal power flow\n",
    "sim.opfSetup()\n",
    "\n",
    "# Mengatur parameter beban ke nilai default\n",
    "sim.loadSetup(0.1, load_default)"
   ]
  },
  {
   "cell_type": "code",
   "execution_count": 3,
   "metadata": {},
   "outputs": [
    {
     "data": {
      "text/plain": [
       "(       name            P           Q\n",
       " 0   Load 03   322.000000    2.400000\n",
       " 1   Load 04   500.000000  184.000000\n",
       " 2   Load 07   233.800003   84.000000\n",
       " 3   Load 08   522.000000  176.000000\n",
       " 4   Load 12     7.500000   88.000000\n",
       " 5   Load 15   320.000000  153.000000\n",
       " 6   Load 16   329.000000   32.299999\n",
       " 7   Load 18   158.000000   30.000000\n",
       " 8   Load 20   628.000000  103.000000\n",
       " 9   Load 21   274.000000  115.000000\n",
       " 10  Load 23   247.500000   84.599998\n",
       " 11  Load 24   308.600006  -92.199997\n",
       " 12  Load 25   224.000000   47.200001\n",
       " 13  Load 26   139.000000   17.000000\n",
       " 14  Load 27   281.000000   75.500000\n",
       " 15  Load 28   206.000000   27.600000\n",
       " 16  Load 29   283.500000   26.900000\n",
       " 17  Load 31     9.200000    4.600000\n",
       " 18  Load 39  1104.000000  250.000000,\n",
       "    name       P  iv_mode bus_typ\n",
       " 0  G 01  1000.0        1      PV\n",
       " 1  G 02     0.0        1      SL\n",
       " 2  G 03   650.0        1      PV\n",
       " 3  G 04   632.0        1      PV\n",
       " 4  G 05   254.0        1      PV\n",
       " 5  G 06   650.0        1      PV\n",
       " 6  G 07   560.0        1      PV\n",
       " 7  G 08   540.0        1      PV\n",
       " 8  G 09   830.0        1      PV\n",
       " 9  G 10   250.0        1      PV)"
      ]
     },
     "execution_count": 3,
     "metadata": {},
     "output_type": "execute_result"
    }
   ],
   "source": [
    "sim.loadGenData()"
   ]
  },
  {
   "cell_type": "code",
   "execution_count": null,
   "metadata": {},
   "outputs": [],
   "source": []
  }
 ],
 "metadata": {
  "kernelspec": {
   "display_name": "venv",
   "language": "python",
   "name": "python3"
  },
  "language_info": {
   "codemirror_mode": {
    "name": "ipython",
    "version": 3
   },
   "file_extension": ".py",
   "mimetype": "text/x-python",
   "name": "python",
   "nbconvert_exporter": "python",
   "pygments_lexer": "ipython3",
   "version": "3.11.9"
  }
 },
 "nbformat": 4,
 "nbformat_minor": 2
}
